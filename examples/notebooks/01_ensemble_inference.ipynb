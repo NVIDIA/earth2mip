{
 "cells": [
  {
   "cell_type": "markdown",
   "id": "75733d9d",
   "metadata": {},
   "source": [
    "# Running Ensemble Inference in Earth-2 MIP"
   ]
  },
  {
   "cell_type": "markdown",
   "id": "cc957666",
   "metadata": {},
   "source": [
    "The following notebook demostrates how to use Earth-2 MIP's config schema and builtin inference workflows to perform ensemmble inference of the FourCastNetv2 small (FCNv2-sm) weather model with an intial state pulled from the Climate Data Store (CDS) and perturbed with random noise. The ensemble output will then be loaded into an Xarray Dataset and some sample data analysis is provided.\n",
    "\n",
    "In summary this notebook will cover the following topics:\n",
    "\n",
    "- Configuring and setting up FCNv2 model registry\n",
    "- An ensemble configuration file\n",
    "- Running ensemble inference in Earth-2 MIP to produce an xarray DataSet\n",
    "- Post processing results"
   ]
  },
  {
   "cell_type": "markdown",
   "id": "af1b8718",
   "metadata": {},
   "source": [
    "## Set Up\n",
    "\n",
    "Starting off with imports, hopefully you have already installed Earth-2 MIP from this repository. There are a few additional packages needed. Lets install these first."
   ]
  },
  {
   "cell_type": "code",
   "execution_count": null,
   "id": "abc1edf7",
   "metadata": {
    "vscode": {
     "languageId": "bat"
    }
   },
   "outputs": [],
   "source": [
    "%%capture\n",
    "!pip install cartopy"
   ]
  },
  {
   "cell_type": "code",
   "execution_count": null,
   "id": "261f8a9d",
   "metadata": {},
   "outputs": [],
   "source": [
    "# For running inference we dont need much\n",
    "import os, json, logging\n",
    "import xarray"
   ]
  },
  {
   "cell_type": "markdown",
   "id": "25ab33a6",
   "metadata": {},
   "source": [
    "Prior to importing Earth-2 MIP, its critical we set up a few enviroment variables which will help Earth-2 MIP get configured correctly under the hood. There are a number of different global configuration options, the ones will will set here are:\n",
    "\n",
    "- `WORLD_SIZE`: Tells Earth-2 MIP (which uses Modulus under the hood) the number of GPUs present\n",
    "- `MODEL_REGISTRY`: This variable tells Earth-2 MIP where look for a model registery\n",
    "\n",
    "*Key Concept*: A model registry is a folder that Earth-2 MIP will explore to find model checkpoints to load. A folder containing the required fileds is referred to as a \"model package\". Model packages typically consist of a few files including:\n",
    "- `weights.tar`: the Pytorch model checkpoint to load\n",
    "- `metadata.json`: a JSON file that contains meta info regarding various details for using the model\n",
    "- `config.json`: constains parameters needed to instantiate the model object in python\n",
    "- `global_means.npy`: A numpy array containing the mean values used for normalization of data in the model\n",
    "- `global_std.npy`: A numpy array containing the standard deviation values used for normalization of data in the model"
   ]
  },
  {
   "cell_type": "code",
   "execution_count": null,
   "id": "d40414f1",
   "metadata": {},
   "outputs": [],
   "source": [
    "# Set number of GPUs to use to 1\n",
    "os.environ['WORLD_SIZE'] = '1'\n",
    "# Set model registry as a local folder\n",
    "model_registry = os.path.join(os.path.dirname(os.path.realpath(os. getcwd())), \"models\")\n",
    "os.makedirs(model_registry, exist_ok=True)\n",
    "os.environ['MODEL_REGISTRY'] = model_registry\n",
    "\n",
    "# With the enviroment variables set now we import Earth-2 MIP\n",
    "from earth2mip import inference_ensemble"
   ]
  },
  {
   "cell_type": "markdown",
   "id": "460e1d37",
   "metadata": {},
   "source": [
    "The cell above created a model registry folder for us, but if this is your first notebook its likely empty. Lets fix that. As previously metioned we will be using the FCNv2-sm weather model with the checkpoint provided on the Nvidia Modulus model registry. The model is shipped via a zip folder containing the required checkpoint files discussed above."
   ]
  },
  {
   "cell_type": "code",
   "execution_count": null,
   "id": "7b87ac02",
   "metadata": {},
   "outputs": [],
   "source": [
    "import subprocess\n",
    "if not os.path.isdir(os.path.join(model_registry, 'fcnv2_sm')):\n",
    "    print(\"Downloading model checkpoint, this may take a bit\")\n",
    "    subprocess.run(['wget', '-nc', '-P', f'{model_registry}', 'https://api.ngc.nvidia.com/v2/models/nvidia/modulus/modulus_fcnv2_sm/versions/v0.2/files/fcnv2_sm.zip'], stdout=subprocess.DEVNULL, stderr=subprocess.STDOUT)\n",
    "    subprocess.run(['unzip', '-u', f'{model_registry}/fcnv2_sm.zip', '-d', f'{model_registry}'])\n",
    "    subprocess.run(['rm', f'{model_registry}/fcnv2_sm.zip'])"
   ]
  },
  {
   "attachments": {},
   "cell_type": "markdown",
   "id": "57884e1f",
   "metadata": {},
   "source": [
    "The final setup step is to set up your CDS API key so we can access ERA5 data to act as an initial state. Earth-2 MIP supports a number of different initial state data sources that are supported including HDF5, CDS, GFS, etc. The CDS initial state provides a convenient way to access a limited amount of historical weather data. Its recommended for accessing an initial state, but larger data requirements should use locally stored weather datasets.\n",
    "\n",
    "Enter your CDS API uid and key below (found under your profile page). If you don't a CDS API key, find out more here.\n",
    "- [https://cds.climate.copernicus.eu/cdsapp#!/home](https://cds.climate.copernicus.eu/cdsapp#!/home)\n",
    "- [https://cds.climate.copernicus.eu/api-how-to](https://cds.climate.copernicus.eu/api-how-to)"
   ]
  },
  {
   "cell_type": "code",
   "execution_count": null,
   "id": "30da6d27",
   "metadata": {},
   "outputs": [],
   "source": [
    "# Run this cell and input your credentials in the notebook\n",
    "uid = input(\"Enter in CDS UID (e.g. 123456)\")\n",
    "key = input(\"Enter your CDS API key (e.g. 12345678-1234-1234-1234-123456123456)\")\n",
    "\n",
    "# Write to config file for CDS library\n",
    "with open(os.path.join(os.path.expanduser(\"~\"), '.cdsapirc'), 'w') as f:\n",
    "    f.write('url: https://cds.climate.copernicus.eu/api/v2\\n')\n",
    "    f.write(f'key: {uid}:{key}\\n')"
   ]
  },
  {
   "cell_type": "markdown",
   "id": "2799cf13",
   "metadata": {},
   "source": [
    "## Running Inference\n",
    "\n",
    "To run inference we will use the `earth2mip/ensemble_inference.py` part of Earth-2 MIP. When this Python file, we provide either a config JSON file or a JSON serialized string for it to parse. This config contains the information regarding how the model should run inference. The schema of this can be found in `earth2mip/schema/EnsembleRun`.\n",
    "\n",
    "Since we are working in a notebook, lets create this config Pythonically. There are quite a few parameters that can be used, but lets focus in on a few key ones:\n",
    "\n",
    "- `ensemble_members`: Number ensemble members in the forecast\n",
    "- `noise_amplitude`: The amplitude of the noise pertibation method (we find that a good value to start with is `0.05`, feel free to experiment)\n",
    "- `simulation_length`: Number of (6h) time-steps to predict\n",
    "- `weather_event`: This defines the weather event as a combination of an initial time and a domain. \n",
    "    * The domain property defines the IO, ,by telling Earth-2 MIP for what regions (if `window`) or points (if `multipoint`) data should be stored. It also defines the `channels` and the diagnostic.  In this example the global field is recorded for the `t2m` and `u10m` channels. You can further also explore the `diagnostics` options in Diagnostics class in earth2mip/Diagnostics.py.\n",
    "- `output_path`: The output location of the ensemble prediction netCDF file\n",
    "- `weather_model`: The model ID to run. This MUST match the name of the model registry folder with your checkpoint files. So for this example its `fcnv2_sm`.\n",
    "\n",
    "Note: While in later notebooks we will demonstrate more Pythonic methods to interact with Earth-2 MIP's APIs, the built in inference workflows provide a high-degree of control with little to no programming. "
   ]
  },
  {
   "cell_type": "code",
   "execution_count": null,
   "id": "c174b32f",
   "metadata": {},
   "outputs": [],
   "source": [
    "config =  {\n",
    "    \"ensemble_members\": 4,\n",
    "    \"noise_amplitude\": 0.05,\n",
    "    \"simulation_length\": 10,\n",
    "    \"weather_event\": {\n",
    "        \"properties\": {\n",
    "            \"name\": \"Globe\",\n",
    "            \"start_time\": \"2018-06-01 00:00:00\",\n",
    "            \"initial_condition_source\": \"cds\"\n",
    "        },\n",
    "        \"domains\": [\n",
    "            {\n",
    "                \"name\": \"global\",\n",
    "                \"type\": \"Window\",\n",
    "                \"diagnostics\": [\n",
    "                    {\n",
    "                        \"type\": \"raw\",\n",
    "                        \"channels\": [\n",
    "                            \"t2m\",\n",
    "                            \"u10m\"\n",
    "                        ]\n",
    "                    }\n",
    "                ]\n",
    "            }\n",
    "        ]\n",
    "    },\n",
    "    \"output_path\": \"../outputs/01_ensemble_notebook\",\n",
    "    \"output_frequency\": 1,\n",
    "    \"weather_model\": \"fcnv2_sm\",\n",
    "    \"seed\": 12345,\n",
    "    \"use_cuda_graphs\": False,\n",
    "    \"ensemble_batch_size\": 1,\n",
    "    \"autocast_fp16\": False,\n",
    "    \"perturbation_strategy\": \"correlated\",\n",
    "    \"noise_reddening\": 2.0\n",
    "}"
   ]
  },
  {
   "cell_type": "markdown",
   "id": "94ab6807",
   "metadata": {},
   "source": [
    "Now we run the `main()` function in `earth2mip.inference_ensemble` providing our config object which will run inference with the following steps:\n",
    "\n",
    "1. Instantiate and load the FCNv2 small weather model onto the device\n",
    "2. Download the initial state data needed from CDS using your saved API key\n",
    "3. Perturb the initial state based on the parameters in the config and run a forecast predicton\n",
    "4. Save output Xarray dataset to NetCDF file located in `../outputs/01_ensemble_notebook`\n",
    "\n",
    "(the process may take a while!)"
   ]
  },
  {
   "cell_type": "code",
   "execution_count": null,
   "id": "e63794c6",
   "metadata": {},
   "outputs": [],
   "source": [
    "# Option 1: Use config file\n",
    "# with open('./01_config.json', 'w') as f:\n",
    "#     json.dump(config, f)\n",
    "# ! python3 -m earth2-mip.inference_ensemble 01_config.json\n",
    "\n",
    "# Option 2: Feed in JSON string directly\n",
    "config_str = json.dumps(config)\n",
    "! python3 -m earth2mip.inference_ensemble '{config_str}'"
   ]
  },
  {
   "cell_type": "markdown",
   "id": "54c1699d",
   "metadata": {},
   "source": [
    "When the inference is complete we can examine the output in `../ouputs/01_ensemble_notebook/ensemble_out_0.nc`. \n",
    "\n",
    "Note: if the inference is distributed across N GPUs there will be `ensemble_out_0.nc`,`ensemble_out_1.nc`, ... `ensemble_out_N-1.nc` output files. \n",
    "In this case a function like this could concat the files to a single xarray DataArray:\n",
    "\n",
    "```python\n",
    "def _open(f, domain, time, chunks={\"time\": 1}):\n",
    "    root = xarray.open_dataset(f, decode_times=False)\n",
    "    ds = xarray.open_dataset(f, chunks=chunks, group=domain)\n",
    "    ds.attrs = root.attrs\n",
    "    return ds.assign_coords(time=lead_time)\n",
    "\n",
    "\n",
    "def open_ensemble(path, domain, time):\n",
    "    path = pathlib.Path(path)\n",
    "    ensemble_files = list(path.glob(\"ensemble_out_*.nc\"))\n",
    "    return xarray.concat(\n",
    "        [_open(f, group, time) for f in ensemble_files], dim=\"ensemble\"\n",
    "    )\n",
    "```\n",
    "\n",
    "(TODO: Move this into a parallel inference notebook!)\n",
    "\n",
    "But with our single NetCDF file we can load it into a [Xarray Dataset](https://docs.xarray.dev/en/stable/generated/xarray.Dataset.html) with just a few lines of code."
   ]
  },
  {
   "cell_type": "code",
   "execution_count": null,
   "id": "44c6d6cb",
   "metadata": {},
   "outputs": [],
   "source": [
    "def open_ensemble(f, domain, chunks={\"time\": 1}):\n",
    "    time = xarray.open_dataset(f).time\n",
    "    root = xarray.open_dataset(f, decode_times=False)\n",
    "    ds = xarray.open_dataset(f, chunks=chunks, group=domain)\n",
    "    ds.attrs = root.attrs\n",
    "    return ds.assign_coords(time=time)\n",
    "\n",
    "output_path = config[\"output_path\"]\n",
    "domains = config[\"weather_event\"][\"domains\"][0][\"name\"]\n",
    "ensemble_members = config[\"ensemble_members\"]\n",
    "ds = open_ensemble(os.path.join(output_path, \"ensemble_out_0.nc\"), domains)\n",
    "ds"
   ]
  },
  {
   "cell_type": "markdown",
   "id": "42d027fd",
   "metadata": {},
   "source": [
    "## Post Processing\n",
    "\n",
    "With inference complete, now the fun part: post processing and analysis!\n",
    "You can manipulate the data to your hearts content now that its in an Xarray Dataset.\n",
    "Here we will demonstrate some common plotting / analysis workflows one may be interested.\n",
    "Lets start off with importing all our post processing packages."
   ]
  },
  {
   "cell_type": "code",
   "execution_count": null,
   "id": "88f5637a",
   "metadata": {},
   "outputs": [],
   "source": [
    "import numpy as np\n",
    "import pandas as pd\n",
    "import matplotlib as mpl\n",
    "import cartopy.crs as ccrs\n",
    "import cartopy.feature as cfeature\n",
    "import matplotlib.pyplot as plt\n",
    "import matplotlib.colors as mcolors\n",
    "from io import StringIO\n",
    "from matplotlib.colors import TwoSlopeNorm\n",
    "from datetime import datetime, timedelta\n",
    "\n",
    "countries = cfeature.NaturalEarthFeature(\n",
    "    category='cultural',\n",
    "    name='admin_0_countries',\n",
    "    scale='50m',\n",
    "    facecolor='none',\n",
    "    edgecolor='black'\n",
    ")"
   ]
  },
  {
   "cell_type": "markdown",
   "id": "244ad729",
   "metadata": {},
   "source": [
    "Up first, we can plot a time series of the value of a variable (or statistics of that variable) at a given location (lat/lon coord). In this case lets look at the results predicted over New York. "
   ]
  },
  {
   "cell_type": "code",
   "execution_count": null,
   "id": "1fe5d1b5",
   "metadata": {},
   "outputs": [],
   "source": [
    "\n",
    "lead_time = np.array((pd.to_datetime(ds.time) - pd.to_datetime(ds.time)[0]).total_seconds()/ 3600)\n",
    "nyc_lat = 40\n",
    "nyc_lon = 360-74\n",
    "NYC = ds.sel(lon = nyc_lon, lat = nyc_lat)\n",
    "fig = plt.figure(figsize=(9, 6))\n",
    "ax = fig.add_subplot(311)\n",
    "ax.set_title('Ensemble members')\n",
    "ax.plot(lead_time, NYC.u10m.T)\n",
    "ax.set_ylabel('u10m [m/s]')\n",
    "\n",
    "ax = fig.add_subplot(312)\n",
    "ax.set_title('deviation from ensemble mean')\n",
    "ax.plot(lead_time, NYC.t2m.T-NYC.t2m.mean(\"ensemble\"))\n",
    "ax.set_ylabel('u10m [m/s]')\n",
    "\n",
    "ax = fig.add_subplot(313)\n",
    "ax.set_title('ensemble spread')\n",
    "ax.plot(lead_time, NYC.t2m.std(\"ensemble\"))\n",
    "ax.set_xlabel('lead_time [h]')\n",
    "ax.set_ylabel('std u10m [m/s]')\n",
    "plt.tight_layout()"
   ]
  },
  {
   "cell_type": "markdown",
   "id": "4dfe12f1",
   "metadata": {},
   "source": [
    "Next, lets plot some fields of surface temperature. Since we have an ensemble of predictions, lets display the first ensemble member, which is deterministic member, and also the last ensemble member and the ensemmble standard deviation. One or both of the perturbed members may look a little noisy, thats because our noise amplitude is maybe too high. Try lowering the amplitude in the config or changing pertibation type to see what happens."
   ]
  },
  {
   "cell_type": "code",
   "execution_count": null,
   "id": "b01265c1",
   "metadata": {},
   "outputs": [],
   "source": [
    "\n",
    "fig = plt.figure(figsize=(15, 10))\n",
    "plt.rcParams['figure.dpi'] = 100\n",
    "proj = ccrs.NearsidePerspective(central_longitude=nyc_lon, central_latitude=nyc_lat)\n",
    "\n",
    "data = ds.t2m[0,-1,:,:]\n",
    "norm = TwoSlopeNorm(vmin=220, vcenter=290, vmax=320)\n",
    "ax = fig.add_subplot(131, projection=proj)\n",
    "ax.set_title('First ensemble member t2m (K)')\n",
    "img = ax.pcolormesh(ds.lon, ds.lat, data, transform=ccrs.PlateCarree(), norm=norm, cmap=\"seismic\")\n",
    "ax.coastlines(linewidth=1)\n",
    "ax.add_feature(countries, edgecolor='black', linewidth=0.25)\n",
    "plt.colorbar(img, ax=ax, shrink=0.40, norm=mcolors.CenteredNorm(vcenter=0))\n",
    "gl = ax.gridlines(draw_labels=True, linestyle='--')\n",
    "\n",
    "data = ds.t2m[-1,-1,:,:]\n",
    "norm = TwoSlopeNorm(vmin=220, vcenter=290, vmax=320)\n",
    "ax = fig.add_subplot(132, projection=proj)\n",
    "plt.rcParams['figure.dpi'] = 100\n",
    "proj = ccrs.NearsidePerspective(central_longitude=nyc_lon, central_latitude=nyc_lat)\n",
    "ax.set_title('Last ensemble member t2m (K)')\n",
    "img = ax.pcolormesh(ds.lon, ds.lat, data, transform=ccrs.PlateCarree(), norm=norm, cmap=\"seismic\")\n",
    "ax.coastlines(linewidth=1)\n",
    "ax.add_feature(countries, edgecolor='black', linewidth=0.25)\n",
    "plt.colorbar(img, ax=ax, shrink=0.40, norm=mcolors.CenteredNorm(vcenter=0))\n",
    "gl = ax.gridlines(draw_labels=True, linestyle='--')\n",
    "\n",
    "ds_ensemble_std = ds.std(dim = \"ensemble\")\n",
    "data = ds_ensemble_std.t2m[-1,:,:]\n",
    "# norm = TwoSlopeNorm(vmin=data.min().values, vcenter=5, vmax=data.max().values)\n",
    "proj = ccrs.NearsidePerspective(central_longitude=nyc_lon, central_latitude=nyc_lat)\n",
    "ax = fig.add_subplot(133, projection=proj)\n",
    "ax.set_title('ensemble std  t2m (K)')\n",
    "img = ax.pcolormesh(ds.lon, ds.lat, data, transform=ccrs.PlateCarree(), cmap=\"seismic\")\n",
    "ax.coastlines(linewidth=1)\n",
    "ax.add_feature(countries, edgecolor='black', linewidth=0.25)\n",
    "plt.colorbar(img, ax=ax, shrink=0.40, norm=mcolors.CenteredNorm(vcenter=0))\n",
    "gl = ax.gridlines(draw_labels=True, linestyle='--')"
   ]
  },
  {
   "cell_type": "markdown",
   "id": "bde30e8b",
   "metadata": {},
   "source": [
    "We can also show a map of the ensemble mean of the 10 meter zonal winds (using some Nvidia coloring!) "
   ]
  },
  {
   "cell_type": "code",
   "execution_count": null,
   "id": "26df9e5c",
   "metadata": {},
   "outputs": [],
   "source": [
    "def Nvidia_cmap():\n",
    "    colors = ['#8946ff', '#ffffff', '#00ff00']\n",
    "    cmap = mcolors.LinearSegmentedColormap.from_list(\"custom_cmap\", colors)\n",
    "    return cmap\n",
    "\n",
    "ds_ensemble_mean = ds.mean(dim = \"ensemble\")\n",
    "data = ds_ensemble_mean.u10m[-1,:,:]\n",
    "fig = plt.figure(figsize=(9, 6))\n",
    "plt.rcParams['figure.dpi'] = 100\n",
    "proj = ccrs.NearsidePerspective(central_longitude=nyc_lon, central_latitude=nyc_lat)\n",
    "\n",
    "ax = fig.add_subplot(111, projection=proj)\n",
    "ax.set_title('ens. mean 10 meter zonal wind [m/s]')\n",
    "img = ax.pcolormesh(ds.lon, ds.lat, data, transform=ccrs.PlateCarree(), cmap = Nvidia_cmap(), vmin=-20, vmax=20)\n",
    "ax.coastlines(linewidth=1)\n",
    "ax.add_feature(countries, edgecolor='black', linewidth=0.25)\n",
    "plt.colorbar(img, ax=ax, shrink=0.40, norm=mcolors.CenteredNorm(vcenter=0))\n",
    "gl = ax.gridlines(draw_labels=True, linestyle='--')"
   ]
  },
  {
   "cell_type": "markdown",
   "id": "a6cad685",
   "metadata": {},
   "source": [
    "Finally lets compute the latitude-weighted global averages and plot time series of ensemble standard deviation"
   ]
  },
  {
   "cell_type": "code",
   "execution_count": null,
   "id": "7cb2083f",
   "metadata": {},
   "outputs": [],
   "source": [
    "def global_average(ds):\n",
    "    cos_lat = np.cos(np.deg2rad(ds.lat))\n",
    "    return ds.weighted(cos_lat).mean([\"lat\", \"lon\"])\n",
    "\n",
    "ds_ensemble_std = global_average(ds.std(dim = \"ensemble\"))\n",
    "plt.figure()\n",
    "plt.plot(lead_time, ds_ensemble_std.u10m)\n",
    "plt.xlabel('lead time [k]')\n",
    "plt.ylabel('u10m std [m/s]')"
   ]
  },
  {
   "cell_type": "markdown",
   "id": "5b656e89",
   "metadata": {},
   "source": [
    "And that completes the introductory notebook into running ensemble weather predictions with AI. In the next notebook, we will look at running different models using more Pythonic APIs and plotting geopotential fields. "
   ]
  }
 ],
 "metadata": {
  "kernelspec": {
   "display_name": "Python 3 (ipykernel)",
   "language": "python",
   "name": "python3"
  },
  "language_info": {
   "codemirror_mode": {
    "name": "ipython",
    "version": 3
   },
   "file_extension": ".py",
   "mimetype": "text/x-python",
   "name": "python",
   "nbconvert_exporter": "python",
   "pygments_lexer": "ipython3",
   "version": "3.10.6"
  },
  "vscode": {
   "interpreter": {
    "hash": "767d51c1340bd893661ea55ea3124f6de3c7a262a8b4abca0554b478b1e2ff90"
   }
  }
 },
 "nbformat": 4,
 "nbformat_minor": 5
}
