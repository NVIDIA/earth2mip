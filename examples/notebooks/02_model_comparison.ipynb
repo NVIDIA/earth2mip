{
 "cells": [
  {
   "attachments": {},
   "cell_type": "markdown",
   "metadata": {},
   "source": [
    "# Comparing Models in Earth-2 MIP\n",
    "\n",
    "The following notebook demonstrates how to use Earth-2 MIP for running different AI weather models and comparing their outputs. Specifically, this will compare the Pangu weather model and Deep Learning Weather Prediction (DLWP) mode with an intial state pulled from the Climate Data Store (CDS). This will also how how to interact with Earth-2 MIP using Python APIs for greater control over inference workflows\n",
    "\n",
    "In summary this notebook will cover the following topics:\n",
    "\n",
    "- Configuring and setting up Pangu Model Registry and DLWP Model Registry\n",
    "- Setting up a basic deterministic inferencer for both models\n",
    "- Running inference in a Python script\n",
    "- Post processing results"
   ]
  },
  {
   "attachments": {},
   "cell_type": "markdown",
   "metadata": {},
   "source": [
    "## Set Up\n",
    "\n",
    "Starting off with imports, hopefully you have already installed Earth-2 MIP from this repository."
   ]
  },
  {
   "cell_type": "code",
   "execution_count": null,
   "metadata": {},
   "outputs": [],
   "source": [
    "# For running inference we dont need much\n",
    "import os, json, logging, datetime\n",
    "import xarray"
   ]
  },
  {
   "attachments": {},
   "cell_type": "markdown",
   "metadata": {},
   "source": [
    "Prior to importing Earth-2 MIP, its critical we set up a few enviroment variables which will help Earth-2 MIP get configured correctly under the hood. There are a number of different global configuration options, the ones will will set here are:\n",
    "\n",
    "- `WORLD_SIZE`: Tells Earth-2 MIP (which uses Modulus under the hood) the number of GPUs present\n",
    "- `MODEL_REGISTRY`: This variable tells Earth-2 MIP where look for a model registery\n",
    "\n",
    "For addition information on the concept of model registry in Earth-2 MIP, have a look at the following notebooks with some additional information:\n",
    "\n",
    "- [01_ensemble_inference](./01_ensemble_inference.ipynb)"
   ]
  },
  {
   "cell_type": "code",
   "execution_count": null,
   "metadata": {},
   "outputs": [],
   "source": [
    "# Set number of GPUs to use to 1\n",
    "os.environ['WORLD_SIZE'] = '1'\n",
    "# Set model registry as a local folder\n",
    "model_registry = os.path.join(os.path.dirname(os.path.realpath(os. getcwd())), \"models\")\n",
    "os.makedirs(model_registry, exist_ok=True)\n",
    "os.environ['MODEL_REGISTRY'] = model_registry\n",
    "\n",
    "# With the enviroment variables set now we import Earth-2 MIP\n",
    "from earth2mip import registry, inference_ensemble\n",
    "from earth2mip.initial_conditions import cds"
   ]
  },
  {
   "attachments": {},
   "cell_type": "markdown",
   "metadata": {},
   "source": [
    "The cell above created a model registry folder for us, now we need to populate it with model packages. We will start with the Pangu weather model by fetching the ONNX checkpoints and creating the `metadata.json`. This metadata JSON file will help Earth-2 MIP interact with the model checkpoint. Specifically, using a Python entry point. This will be discussed in more detail in later notebooks, but fundementally this tells Earth-2 MIP what load function to call for this model (this load function is found in `earth2mip/networks/pangu.py`)"
   ]
  },
  {
   "cell_type": "code",
   "execution_count": null,
   "metadata": {},
   "outputs": [],
   "source": [
    "# First set up a pangu folder\n",
    "import subprocess\n",
    "if not os.path.isdir(os.path.join(model_registry, 'pangu')):\n",
    "    pangu_registry = os.path.join(model_registry, \"pangu\")\n",
    "    os.makedirs(pangu_registry, exist_ok=True)\n",
    "    # Wget onnx files\n",
    "    print(\"Downloading model checkpoint, this may take a bit\")\n",
    "    subprocess.run(['wget', '-nc', '-P', f'{pangu_registry}', 'https://get.ecmwf.int/repository/test-data/ai-models/pangu-weather/pangu_weather_24.onnx'], stdout=subprocess.DEVNULL, stderr=subprocess.STDOUT)\n",
    "    subprocess.run(['wget', '-nc', '-P', f'{pangu_registry}', 'https://get.ecmwf.int/repository/test-data/ai-models/pangu-weather/pangu_weather_6.onnx'], stdout=subprocess.DEVNULL, stderr=subprocess.STDOUT)\n",
    "\n",
    "with open(os.path.join(pangu_registry, 'metadata.json'), 'w') as outfile:\n",
    "    json.dump({\"entrypoint\": {\"name\": \"earth2mip.networks.pangu:load\"}}, outfile, indent=2)"
   ]
  },
  {
   "attachments": {},
   "cell_type": "markdown",
   "metadata": {},
   "source": [
    "Next DLWP model package will need to be downloaded. This model follows the standard proceedure most do in Earth-2 MIP, being served via Modulus and hosted on NGC model registry. The install process is simple and all required files are present in the downloaded zip."
   ]
  },
  {
   "cell_type": "code",
   "execution_count": null,
   "metadata": {},
   "outputs": [],
   "source": [
    "# Now set up DLWP folder\n",
    "if not os.path.isdir(os.path.join(model_registry, 'dlwp')):\n",
    "    print(\"Downloading model checkpoint, this may take a bit\")\n",
    "    subprocess.run(['wget', '-nc', '-P', f'{model_registry}', 'https://api.ngc.nvidia.com/v2/models/nvidia/modulus/modulus_dlwp_cubesphere/versions/v0.1/files/dlwp_cubesphere.zip'], stdout=subprocess.DEVNULL, stderr=subprocess.STDOUT)\n",
    "    subprocess.run(['unzip', '-u', f'{model_registry}/dlwp_cubesphere.zip', '-d', f'{model_registry}'])\n",
    "    subprocess.run(['rm', f'{model_registry}/dlwp_cubesphere.zip'])"
   ]
  },
  {
   "attachments": {},
   "cell_type": "markdown",
   "metadata": {},
   "source": [
    "The final setup step is to set up your CDS API key so we can access ERA5 data to act as an initial state. Earth-2 MIP supports a number of different initial state data sources that are supported including HDF5, CDS, GFS, etc. The CDS initial state provides a convient way to access a limited amount of historical weather data. Its recommended for accessing an initial state, but larger data requirements should use locally stored weather datasets.\n",
    "\n",
    "Enter your CDS API uid and key below (found under your profile page). If you don't a CDS API key, find out more here.\n",
    "- [https://cds.climate.copernicus.eu/cdsapp#!/home](https://cds.climate.copernicus.eu/cdsapp#!/home)\n",
    "- [https://cds.climate.copernicus.eu/api-how-to](https://cds.climate.copernicus.eu/api-how-to)"
   ]
  },
  {
   "cell_type": "code",
   "execution_count": null,
   "metadata": {},
   "outputs": [],
   "source": [
    "# Run this cell and input your credentials in the notebook\n",
    "uid = input(\"Enter in CDS UID (e.g. 123456)\")\n",
    "key = input(\"Enter your CDS API key (e.g. 12345678-1234-1234-1234-123456123456)\")\n",
    "\n",
    "# Write to config file for CDS library\n",
    "with open(os.path.join(os.path.expanduser(\"~\"), '.cdsapirc'), 'w') as f:\n",
    "    f.write('url: https://cds.climate.copernicus.eu/api/v2\\n')\n",
    "    f.write(f'key: {uid}:{key}\\n')"
   ]
  },
  {
   "attachments": {},
   "cell_type": "markdown",
   "metadata": {},
   "source": [
    "## Running Inference\n",
    "\n",
    "To run inference of these models we will use some of Earth-2 MIPs Python APIs to perform inference.\n",
    "The first step is to load the model from the model registry, which is done using the `registry.get_model` command.\n",
    "This will look in your `MODEL_REGISTRY` folder for the provided name and use this as a filesystem for loading necessary files.\n",
    "\n",
    "The model is then loaded into memory using the load function for that particular network. Earth-2 MIP has multiple abstracts that can allow this to be automated that can be used instead if desired."
   ]
  },
  {
   "cell_type": "code",
   "execution_count": null,
   "metadata": {},
   "outputs": [],
   "source": [
    "import earth2mip.networks.dlwp as dlwp\n",
    "import earth2mip.networks.pangu as pangu\n",
    "\n",
    "# Load DLWP model from registry\n",
    "package = registry.get_model(\"dlwp\")\n",
    "dlwp_inference_model = dlwp.load(package)\n",
    "\n",
    "# Load Pangu model(s) from registry\n",
    "package = registry.get_model(\"pangu\")\n",
    "pangu_inference_model = pangu.load(package)"
   ]
  },
  {
   "attachments": {},
   "cell_type": "markdown",
   "metadata": {},
   "source": [
    "Next we set up the initial state data source for January 1st, 2018 at 00:00:00 UTC. As previously mentioned, we will pull data on the fly from CDS (make sure you set up your API key above). Since DLWP and Pangu require different channels (and time steps), we will create two seperate data-sources for them."
   ]
  },
  {
   "cell_type": "code",
   "execution_count": null,
   "metadata": {},
   "outputs": [],
   "source": [
    "# Initial state data/time\n",
    "time = datetime.datetime(2018, 1, 1)\n",
    "\n",
    "# DLWP datasource, DLWP uses two time-steps as an input so we will stack two datasets together\n",
    "cds_data_source = cds.DataSource(dlwp_inference_model.in_channel_names)\n",
    "ds1 = cds_data_source[time]\n",
    "ds2 = cds_data_source[time-datetime.timedelta(hours=6)]\n",
    "ds = xarray.concat([ds2, ds1], dim=\"time\")\n",
    "dlwp_data_source = {time: ds}\n",
    "\n",
    "# Pangu datasource, this is much simplier since pangu only uses one timestep as an input\n",
    "pangu_data_source = cds.DataSource(pangu_inference_model.in_channel_names)"
   ]
  },
  {
   "attachments": {},
   "cell_type": "markdown",
   "metadata": {},
   "source": [
    "With the initial state downloaded for each and set up in an Xarray dataset, we can now run deterministic inference for both which can be achieved using the `inference_ensemble.run_basic_inference` method which will produce a Xarray [data array](https://docs.xarray.dev/en/stable/generated/xarray.DataArray.html) to then work with. "
   ]
  },
  {
   "cell_type": "code",
   "execution_count": null,
   "metadata": {},
   "outputs": [],
   "source": [
    "# Run DLWP inference\n",
    "dlwp_ds = inference_ensemble.run_basic_inference(\n",
    "    dlwp_inference_model,\n",
    "    n=12, # Note we run 12 steps here because DLWP is at 12 hour dt\n",
    "    data_source=dlwp_data_source,\n",
    "    time=time,\n",
    ")\n",
    "print(dlwp_ds)"
   ]
  },
  {
   "cell_type": "code",
   "execution_count": null,
   "metadata": {},
   "outputs": [],
   "source": [
    "# Run Pangu inference\n",
    "pangu_ds = inference_ensemble.run_basic_inference(\n",
    "    pangu_inference_model,\n",
    "    n=24, # Note we run 24 steps here because Pangu is at 6 hour dt\n",
    "    data_source=pangu_data_source,\n",
    "    time=time,\n",
    ")\n",
    "print(pangu_ds)"
   ]
  },
  {
   "attachments": {},
   "cell_type": "markdown",
   "metadata": {},
   "source": [
    "## Post Processing\n",
    "\n",
    "With inference complete, now the fun part: post processing and analysis!\n",
    "Here we will just plot the z500 time-series of each model."
   ]
  },
  {
   "cell_type": "code",
   "execution_count": null,
   "metadata": {},
   "outputs": [],
   "source": [
    "import matplotlib.pyplot as plt\n",
    "\n",
    "# Get data-arrays at 12 hour steps\n",
    "dlwp_arr = dlwp_ds.sel(channel=\"z500\").values\n",
    "pangu_arr = pangu_ds.sel(channel=\"z500\").values[::2]\n",
    "# Plot\n",
    "fig, axs = plt.subplots(2, 13, figsize=(13*4, 5))\n",
    "for i in range(13):\n",
    "    axs[0,i].imshow(dlwp_arr[i,0])\n",
    "    axs[1,i].imshow(pangu_arr[i,0])\n",
    "    axs[0,i].set_title(time + datetime.timedelta(hours=12*i))\n",
    "\n",
    "axs[0,0].set_ylabel(\"DLWP\")\n",
    "axs[1,0].set_ylabel(\"Pangu\")\n",
    "plt.suptitle(\"z500 DLWP vs Pangu\")\n",
    "plt.show()"
   ]
  },
  {
   "attachments": {},
   "cell_type": "markdown",
   "metadata": {},
   "source": [
    "And that completes the second notebook detailing how to run deterministic inference of two models using Earth-2 MIP. In the next notebook, we will dive deeper into how a PyTorch model is integrated into Earth-2 MIP. "
   ]
  }
 ],
 "metadata": {
  "kernelspec": {
   "display_name": "Python 3 (ipykernel)",
   "language": "python",
   "name": "python3"
  },
  "language_info": {
   "codemirror_mode": {
    "name": "ipython",
    "version": 3
   },
   "file_extension": ".py",
   "mimetype": "text/x-python",
   "name": "python",
   "nbconvert_exporter": "python",
   "pygments_lexer": "ipython3",
   "version": "3.10.6"
  },
  "vscode": {
   "interpreter": {
    "hash": "767d51c1340bd893661ea55ea3124f6de3c7a262a8b4abca0554b478b1e2ff90"
   }
  }
 },
 "nbformat": 4,
 "nbformat_minor": 4
}
