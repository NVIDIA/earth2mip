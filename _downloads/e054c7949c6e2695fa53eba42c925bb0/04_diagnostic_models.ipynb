{
  "cells": [
    {
      "cell_type": "markdown",
      "metadata": {},
      "source": [
        "\n# Diagnostic Models for Precipitation\n\nThe following notebook will demonstrate how to use diagnostic models inside of Earth-2\nMIP for transforming outputs of global weather models into different quantities of\ninterest. More information on diagnostics can be found in the [user guide](https://nvidia.github.io/earth2mip/userguide/diagnostic.html).\n\nIn summary this notebook will cover the following topics:\n\n- Loading a built in diagnostic model for predicting total precipitation\n- Combining the diagnostic model with a prognostic model using the DiangosticLooper\n"
      ]
    },
    {
      "cell_type": "code",
      "execution_count": null,
      "metadata": {
        "collapsed": false
      },
      "outputs": [],
      "source": [
        "import datetime\nimport os\nimport dotenv\n\ndotenv.load_dotenv()"
      ]
    },
    {
      "cell_type": "markdown",
      "metadata": {},
      "source": [
        "## Loading Diagnostic Models\nLoading diagnostic models is similar to prognostic models, but presently use a\nslightly different API. In this example we will using the built in AFNO FourCast Net\nto serve as the underlying prognostic model that will drive the time-ingration. The\n:code:`PrecipitationAFNO` model will then be used to \"post-process\" the outputs of\nthis model to predict precipitation. The key API to load a diagnostic model is the\n:code:`load_diagnostic(package)` function which takes a model package in. If you're\ninterested in using the built in model package (i.e. checkpoint), then the\n:code:`load_package()` function can do this for you.\n\n"
      ]
    },
    {
      "cell_type": "code",
      "execution_count": null,
      "metadata": {
        "collapsed": false
      },
      "outputs": [],
      "source": [
        "from modulus.distributed.manager import DistributedManager\nfrom earth2mip.networks import get_model\nfrom earth2mip.diagnostic import PrecipitationAFNO\n\ndevice = DistributedManager().device\n\nprint(\"Loading FCN model\")\nmodel = get_model(\"e2mip://fcn\", device=device)\n\nprint(\"Loading precipitation model\")\npackage = PrecipitationAFNO.load_package()\ndiagnostic = PrecipitationAFNO.load_diagnostic(package)"
      ]
    },
    {
      "cell_type": "markdown",
      "metadata": {},
      "source": [
        "The next step is to wrap the prognostic model with the Diagnostic Time loop.\nEssentially this adds the execution of the diagnostic model on top of the forecast\nmodel iterator. This will add the total preciptation field (`tp`) to the output data\nwhich can the be further processed.\n\n"
      ]
    },
    {
      "cell_type": "code",
      "execution_count": null,
      "metadata": {
        "collapsed": false
      },
      "outputs": [],
      "source": [
        "from earth2mip.diagnostic import DiagnosticTimeLoop\n\nmodel_diagnostic = DiagnosticTimeLoop(diagnostics=[diagnostic], model=model)"
      ]
    },
    {
      "cell_type": "markdown",
      "metadata": {},
      "source": [
        "## Running Inference\nWith the diagnostic time loop created the final steps are to create the data source\nand run inference. For this example we will use the CDS data source again. Its assumed\nyour CDS API key is already set up. Reference the [first example](https://nvidia.github.io/earth2mip/examples/01_ensemble_inference.html#set-up)\nfor additional information. We will use the basic inference workflow which returns a\nXarray dataset we will save to netCDF.\n\n"
      ]
    },
    {
      "cell_type": "code",
      "execution_count": null,
      "metadata": {
        "collapsed": false
      },
      "outputs": [],
      "source": [
        "from earth2mip.inference_ensemble import run_basic_inference\nfrom earth2mip.initial_conditions import cds\n\nprint(\"Constructing initializer data source\")\ndata_source = cds.DataSource(model.in_channel_names)\ntime = datetime.datetime(2018, 4, 4)\n\nprint(\"Running inference\")\noutput_dir = \"outputs/04_diagnostic_precip\"\nos.makedirs(output_dir, exist_ok=True)\nds = run_basic_inference(\n    model_diagnostic,\n    n=20,\n    data_source=data_source,\n    time=time,\n)\nds.to_netcdf(os.path.join(output_dir, \"precipitation_afno.nc\"))\nprint(ds)"
      ]
    },
    {
      "cell_type": "markdown",
      "metadata": {},
      "source": [
        "## Post Processing\nWith inference complete we can do some post processing on our predictions. Lets first\nvisualize the total precipitation and total column water vapor for a few days.\n\n"
      ]
    },
    {
      "cell_type": "code",
      "execution_count": null,
      "metadata": {
        "collapsed": false
      },
      "outputs": [],
      "source": [
        "import cartopy\nimport cartopy.crs as ccrs\nimport matplotlib.pyplot as plt\nimport numpy as np\nimport pandas as pd\nimport xarray as xr\n\n\nplt.close(\"all\")\n# Open dataset from saved NetCDFs\nds = xr.open_dataarray(os.path.join(output_dir, \"precipitation_afno.nc\"))\n\nndays = 3\nproj = ccrs.Robinson()\nfig, ax = plt.subplots(\n    2,\n    ndays,\n    figsize=(15, 5),\n    subplot_kw={\"projection\": proj},\n    gridspec_kw={\"wspace\": 0.05, \"hspace\": 0.007},\n)\n\nfor day in range(ndays):\n    i = 4 * day  # 6-hour timesteps\n    tp = ds[i, 0].sel(channel=\"tp\")\n    img = ax[0, day].pcolormesh(\n        tp.lon,\n        tp.lat,\n        tp.values,\n        transform=ccrs.PlateCarree(),\n        cmap=\"cividis\",\n        vmin=0,\n        vmax=0.05,\n    )\n    ax[0, day].set_title(pd.to_datetime(ds.coords[\"time\"])[i])\n    ax[0, day].coastlines(color=\"k\")\n    plt.colorbar(img, ax=ax[0, day], shrink=0.40)\n\n    tcwv = ds[i, 0].sel(channel=\"tcwv\")\n    img = ax[1, day].pcolormesh(\n        tcwv.lon,\n        tcwv.lat,\n        tcwv.values,\n        transform=ccrs.PlateCarree(),\n        cmap=\"gist_ncar\",\n        vmin=0,\n        vmax=75,\n    )\n    ax[1, day].coastlines(resolution=\"auto\", color=\"k\")\n    plt.colorbar(img, ax=ax[1, day], shrink=0.40)\n\nax[0, 0].text(\n    -0.07,\n    0.55,\n    \"Total Precipitation (m)\",\n    va=\"bottom\",\n    ha=\"center\",\n    rotation=\"vertical\",\n    rotation_mode=\"anchor\",\n    transform=ax[0, 0].transAxes,\n)\n\nax[1, 0].text(\n    -0.07,\n    0.55,\n    \"Total Column\\nWater Vapor (kg m-2)\",\n    va=\"bottom\",\n    ha=\"center\",\n    rotation=\"vertical\",\n    rotation_mode=\"anchor\",\n    transform=ax[1, 0].transAxes,\n)\n\nplt.savefig(f\"{output_dir}/diagnostic_tp_tcwv.png\")"
      ]
    },
    {
      "cell_type": "markdown",
      "metadata": {},
      "source": [
        "This partiulcar date was selected for inference due to an atmopsheric river occuring\nover the west coast of the United States. Lets plot the total precipitation that\noccured over San Francisco.\n\n"
      ]
    },
    {
      "cell_type": "code",
      "execution_count": null,
      "metadata": {
        "collapsed": false
      },
      "outputs": [],
      "source": [
        "plt.close(\"all\")\n# Open dataset from saved NetCDFs\nds = xr.open_dataarray(os.path.join(output_dir, \"precipitation_afno.nc\"))\n\ntp_sf = ds.sel(channel=\"tp\", lat=37.75, lon=57.5)  # Lon is [0, 360]\n\nplt.plot(pd.to_datetime(tp_sf.coords[\"time\"]), tp_sf.values)\nplt.title(\"SF (lat: 37.75N lon: 122.5W)\")\nplt.ylabel(\"Total Precipitation (m)\")\nplt.savefig(f\"{output_dir}/sf_tp.png\")"
      ]
    },
    {
      "cell_type": "markdown",
      "metadata": {},
      "source": [
        "The land fall of the atmosphric river is very clear here, lets have a look at the\nregional contour of the bay area to better understand the structure of this event.\n\n"
      ]
    },
    {
      "cell_type": "code",
      "execution_count": null,
      "metadata": {
        "collapsed": false
      },
      "outputs": [],
      "source": [
        "plt.close(\"all\")\n# Open dataset from saved NetCDFs\nds = xr.open_dataarray(os.path.join(output_dir, \"precipitation_afno.nc\"))\nnsteps = 5\nproj = ccrs.AlbersEqualArea(central_latitude=37.75, central_longitude=-122.5)\nfig, ax = plt.subplots(\n    1,\n    nsteps,\n    figsize=(20, 5),\n    subplot_kw={\"projection\": proj},\n    gridspec_kw={\"wspace\": 0.05, \"hspace\": 0.007},\n)\n\nfor step in range(nsteps):\n    i = step + 3\n    tp = ds[i, 0].sel(channel=\"tp\")\n\n    ax[step].add_feature(cartopy.feature.OCEAN, zorder=0)\n    ax[step].add_feature(cartopy.feature.LAND, zorder=0)\n    masked_data = np.ma.masked_where(tp.values < 0.001, tp.values)\n    img = ax[step].imshow(\n        1000 * masked_data,\n        transform=ccrs.PlateCarree(),\n        cmap=\"jet\",\n        vmin=0,\n        vmax=10,\n    )\n    ax[step].set_title(pd.to_datetime(ds.coords[\"time\"])[i])\n    ax[step].coastlines(color=\"k\")\n    ax[step].set_extent([-115, -135, 30, 45], ccrs.PlateCarree())\n    plt.colorbar(img, ax=ax[step], shrink=0.40)\n\n\nax[0].text(\n    -0.07,\n    0.55,\n    \"Total Precipitation (mm)\",\n    va=\"bottom\",\n    ha=\"center\",\n    rotation=\"vertical\",\n    rotation_mode=\"anchor\",\n    transform=ax[0].transAxes,\n)\n\nplt.savefig(f\"{output_dir}/diagnostic_bay_area_tp.png\")"
      ]
    },
    {
      "cell_type": "markdown",
      "metadata": {},
      "source": [
        "This completes the introductory notebook on running diagnostic models. Diangostic\nmodels are signifcantly more cheap to train and more flexible for difference usecases.\nIn later examples, we will explore using these models of various other tasks.\n\n"
      ]
    }
  ],
  "metadata": {
    "kernelspec": {
      "display_name": "Python 3",
      "language": "python",
      "name": "python3"
    },
    "language_info": {
      "codemirror_mode": {
        "name": "ipython",
        "version": 3
      },
      "file_extension": ".py",
      "mimetype": "text/x-python",
      "name": "python",
      "nbconvert_exporter": "python",
      "pygments_lexer": "ipython3",
      "version": "3.10.6"
    }
  },
  "nbformat": 4,
  "nbformat_minor": 0
}