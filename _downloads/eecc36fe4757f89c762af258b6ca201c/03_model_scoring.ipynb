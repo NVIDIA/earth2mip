{
  "cells": [
    {
      "cell_type": "markdown",
      "metadata": {},
      "source": [
        "\n# Scoring Models\n\nThe following notebook will demonstrate how to use Earth-2 MIP to perform a scoring\nworkflow to assess the accuracy of AI models using ERA5 reanalysis data as the\nground truth. This can then be extended to score custom models placed into the model\nregistry. This tutorial also covers details about using a HDF5 datasource, the expected\nformat this data should be formatted and how to use H5 files for evaluating models over\na year's worth of data.\n\nIn summary this notebook will cover the following topics:\n\n- Implementing a basic scoring workflow in Earth-2 MIP\n- HDF5 datasource and the expected data format of the H5 files\n"
      ]
    },
    {
      "cell_type": "code",
      "execution_count": null,
      "metadata": {
        "collapsed": false
      },
      "outputs": [],
      "source": [
        "import datetime\nimport os"
      ]
    },
    {
      "cell_type": "markdown",
      "metadata": {},
      "source": [
        "## Setting up HDF5 data\nThe first step of scoring is handling the target data. One could simply use the\nCDSDatasource to download target data on the fly, but depending on how comprehensive\nthe scoring is, this can prove quite slow.\nAdditionally, many scoring pipelines require on-prem data.\nThus, this will demonstrate how to use the HDF5 datasource.\nThe HDF5 data source assumes that the data to be loaded is stored in the general form:\n::\n\n  year.h5\n      | - field (time, channels, grid)\n\nFor DLWP which requires 7 channels with a time-step size of 12 hours, an H5 file will\nhave the following form of data for an entire year:\n::\n\n  2017.h5\n      | - field (730, 7, 720, 1440)\n  2016.h5\n      | - field (730, 7, 720, 1440)\n  2015.h5\n      | - field (730, 7, 720, 1440)\n\n<div class=\"alert alert-info\"><h4>Note</h4><p>There is some flexibility with the dimensions of the data in the H5 files. The time\n  dimension may be some factor of 12 (such as 6hr dt or 4hr dt) and the fields may\n  contain additional channels not needed by the model. The data source will select the\n  necessary data for the model. Additionally, the later two dims have some flexibility\n  with regridding.</p></div>\n\nOne option to build these H5 files from scratch is to use the ERA5 mirror scripts\nprovided in [Modulus](https://github.com/NVIDIA/modulus/tree/main/examples/weather/dataset_download).\nFor the rest of this tutorial, it is assumed that 2017.h5 is present for the full year.\n\n"
      ]
    },
    {
      "cell_type": "code",
      "execution_count": null,
      "metadata": {
        "collapsed": false
      },
      "outputs": [],
      "source": [
        "import dotenv\n\ndotenv.load_dotenv()\n# can set this with the export ERA5_HDF5=/path/to/root/of/h5/files\nh5_folder = os.getenv(\"ERA5_HDF5\")"
      ]
    },
    {
      "cell_type": "markdown",
      "metadata": {},
      "source": [
        "## Loading Models\nWith the HDF5 datasource loaded the next step is to load our model we wish to score.\nIn this tutorial we will be using the built in FourcastNet model.\nTake note of the `e2mip://` which will direct Earth-2 MIP to load a known model package.\nFourcastNet is selected here simply because its a 34 channel model which aligns with the\nH5 files described above.\n\n"
      ]
    },
    {
      "cell_type": "code",
      "execution_count": null,
      "metadata": {
        "collapsed": false
      },
      "outputs": [],
      "source": [
        "from modulus.distributed import DistributedManager\n\nfrom earth2mip import registry\nfrom earth2mip.networks import dlwp\n\ndevice = DistributedManager().device\npackage = registry.get_model(\"e2mip://dlwp\")\nmodel = dlwp.load(package, device=device)"
      ]
    },
    {
      "cell_type": "markdown",
      "metadata": {},
      "source": [
        "## HDF5 Datasource\nWith the H5 files properly formatted, a H5 datasource can now get defined.\nThis requires two items: a root directory location of the H5 files as well as some\nmetadata. Se\nThe metadata is a JSON/dictionary object that helps Earth-2 MIP index the H5 file.\nTypically, this can be done by placing a `data.json` file next to the H5 files.\nSee [this documentation](https://github.com/NVIDIA/earth2mip/blob/f44c580ccc3d98bf349fe97823bb1540e532c80d/earth2mip/initial_conditions/hdf5.py#L38)\nfor more details on how to set up input data correctly.\n\n"
      ]
    },
    {
      "cell_type": "code",
      "execution_count": null,
      "metadata": {
        "collapsed": false
      },
      "outputs": [],
      "source": [
        "from earth2mip.initial_conditions import hdf5\n\ndatasource = hdf5.DataSource.from_path(\n    root=h5_folder, channel_names=model.channel_names\n)\n\n# Test to see if our datasource is working\ntime = datetime.datetime(2017, 5, 1, 18)\nout = datasource[time]\nprint(out.shape)"
      ]
    },
    {
      "cell_type": "markdown",
      "metadata": {},
      "source": [
        "## Running Scoring\nWith the datasource and model loaded, scoring can now be performed.\nTo score this we will run 10 day forecasts over the span of the entire year at 30 day\nintervals.\nFor research, one would typically want this to be much more comprehensive so feel free\nto customize for you're use case.\n\nThe `score_deterministic` API provides a simple way to calculate RMSE and ACC scores.\nACC scores require climatology which is beyond the scope of this example, thus zero\nvalues will be provided and only the RMSE will be of concern.\nThis function will save the results of every inference run into a CSV file which\ncan then be pose process using some of the utility functions Earth-2 MIP provides.\n\n"
      ]
    },
    {
      "cell_type": "code",
      "execution_count": null,
      "metadata": {
        "collapsed": false
      },
      "outputs": [],
      "source": [
        "from earth2mip.inference_medium_range import save_scores, time_average_metrics\n\n# Use 12 initializations.\ntime = datetime.datetime(2017, 1, 2, 0)\ninitial_times = [\n    time + datetime.timedelta(days=30 * i, hours=6 * i) for i in range(12)\n]  # modify here to change the initializations\n\n# Output directoy\noutput_dir = \"outputs/03_model_scoring\"\nif not os.path.exists(output_dir):\n    os.makedirs(output_dir, exist_ok=True)\n    output = save_scores(\n        model,\n        n=28,  # 6 hour timesteps (28*6/24 = 7-day forecast)\n        initial_times=initial_times,\n        data_source=datasource,\n        time_mean=datasource.time_means,\n        output_directory=output_dir,\n    )"
      ]
    },
    {
      "cell_type": "markdown",
      "metadata": {},
      "source": [
        "## Post Processing\nThe last step is any post processing / IO that is desired.\nTypically its recommended to save the output dataset to a netCDF file for further processing.\nLets plot the RMSE of the z500 (geopotential at pressure level 500) field.\n\n"
      ]
    },
    {
      "cell_type": "code",
      "execution_count": null,
      "metadata": {
        "collapsed": false
      },
      "outputs": [],
      "source": [
        "import matplotlib.pyplot as plt\nimport pandas as pd\n\nfrom earth2mip.forecast_metrics_io import read_metrics\n\nseries = read_metrics(output_dir)\ndataset = time_average_metrics(series)\n\nplt.close(\"all\")\nfig, axs = plt.subplots(1, 3, figsize=(15, 5))\nchannels = [\"z500\", \"t2m\", \"t850\"]\nt = dataset.lead_time / pd.Timedelta(\"1 h\")\nfor i, channel in enumerate(channels):\n    y = dataset.rmse.sel(channel=channel)\n    axs[i].plot(t[1:], y[1:])  # Ignore first output as that's just initial condition.\n    axs[i].set_xlabel(\"Lead Time (hours)\")\n    axs[i].set_ylabel(\"RMSE\")\n    axs[i].set_title(f\"DLWP {channel} RMSE 2017\")\n\nplt.savefig(f\"{output_dir}/dwlp_rmse.png\")"
      ]
    },
    {
      "cell_type": "markdown",
      "metadata": {},
      "source": [
        "This completes this introductory notebook on basic scoring of models in Earth-2 MIP,\nwhich is founational for comparing the performance of different models.\n\n"
      ]
    }
  ],
  "metadata": {
    "kernelspec": {
      "display_name": "Python 3",
      "language": "python",
      "name": "python3"
    },
    "language_info": {
      "codemirror_mode": {
        "name": "ipython",
        "version": 3
      },
      "file_extension": ".py",
      "mimetype": "text/x-python",
      "name": "python",
      "nbconvert_exporter": "python",
      "pygments_lexer": "ipython3",
      "version": "3.10.6"
    }
  },
  "nbformat": 4,
  "nbformat_minor": 0
}