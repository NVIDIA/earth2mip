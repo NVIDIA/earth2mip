{
  "cells": [
    {
      "cell_type": "markdown",
      "metadata": {},
      "source": [
        "\n# Running Ensemble Inference\n\nThe following notebook demostrates how to use Earth-2 MIP's config schema and builtin\ninference workflows to perform ensemmble inference of the FourCastNetv2 small (FCNv2-sm)\nweather model with an intial state pulled from the Climate Data Store (CDS) and\nperturbed with random noise. The ensemble output will then be loaded into an Xarray\nDataset and some sample data analysis is provided.\n\nIn summary this notebook will cover the following topics:\n\n- Configuring and setting up FCNv2 model registry\n- An ensemble configuration file\n- Running ensemble inference in Earth-2 MIP to produce an xarray DataSet\n- Post processing results\n"
      ]
    },
    {
      "cell_type": "markdown",
      "metadata": {},
      "source": [
        "## Set Up\nStarting off with imports, hopefully you have already installed Earth-2 MIP from this\nrepository. There are a few additional packages needed.\n\n"
      ]
    },
    {
      "cell_type": "code",
      "execution_count": null,
      "metadata": {
        "collapsed": false
      },
      "outputs": [],
      "source": [
        "import json\nimport os"
      ]
    },
    {
      "cell_type": "markdown",
      "metadata": {},
      "source": [
        "Prior to importing Earth-2 MIP, users need to be aware of a few enviroment variables\nwhich can be used to customize Earth-2 MIPs global behavior. These must be set prior to\nimporting Earth-2 MIP. There are a number of different configuration options, some to\nconsider are:\n\n- `WORLD_SIZE`: Tells Earth-2 MIP (which uses Modulus under the hood) the number of GPUs to use for inferencing.\n- `MODEL_REGISTRY`: This variable tells Earth-2 MIP where location the model registery. By default this is located in `${HOME}/.cache/earth2mip/models`.\n\n*Key Concept*: A model registry is a folder that Earth-2 MIP will explore to find model\ncheckpoints to load. A folder containing the required fileds is referred to as a\n\"model package\". Model packages typically consist of a few files such as:\n\n- `weights.tar`/`weights.mdlus`: the model checkpoint to load\n- `metadata.json`: a JSON file that contains meta info regarding various details for using the model\n- `config.json`: constains parameters needed to instantiate the model object in python\n- `global_means.npy`: A numpy array containing the mean values used for normalization of data in the model\n- `global_std.npy`: A numpy array containing the standard deviation values used for normalization of data in the model\n\n"
      ]
    },
    {
      "cell_type": "code",
      "execution_count": null,
      "metadata": {
        "collapsed": false
      },
      "outputs": [],
      "source": [
        "import dotenv\nimport xarray\n\ndotenv.load_dotenv()\n\n# With the enviroment variables set now we import Earth-2 MIP\nfrom earth2mip import inference_ensemble, registry"
      ]
    },
    {
      "cell_type": "markdown",
      "metadata": {},
      "source": [
        "The cell above created a model registry folder for us, but if this is your first\nnotebook its likely empty. Lets fix that. As previously metioned we will be using the\nFCNv2-sm weather model with the checkpoint provided on the Nvidia Modulus model\nregistry. The model is shipped via a zip folder containing the required checkpoint files\ndiscussed above.\n\nSince this model is built into Earth-2 MIP, the `registry.get_model` function can be\nused to auto-download and extract it (this can take a bit).\nThe `e2mip://` prefix on the model URI, will point Earth-2 MIP to use the package\nfetch methods built into the model.\nWithout it, Earth-2 MIP will simply look for a `fcnv2_sm` folder in your model registry\nand not attempt to download anything for you.\nOnce complete, go look in your `MODEL_REGISTRY` folder and the files needed for FCNv2\nshould now be present.\n\n"
      ]
    },
    {
      "cell_type": "code",
      "execution_count": null,
      "metadata": {
        "collapsed": false
      },
      "outputs": [],
      "source": [
        "print(\"Fetching model package...\")\npackage = registry.get_model(\"e2mip://fcnv2_sm\")"
      ]
    },
    {
      "cell_type": "markdown",
      "metadata": {},
      "source": [
        "The final setup step is to set up your CDS API key so we can access ERA5 data to act as\nan initial state. Earth-2 MIP supports a number of different initial state data sources\nthat are supported including HDF5, CDS, GFS, etc. The CDS initial state provides a\nconvenient way to access a limited amount of historical weather data. Its recommended\nfor accessing an initial state, but larger data requirements should use locally stored\nweather datasets.\n\nEnter your CDS API uid and key below (found under your profile page).\nIf you don't a CDS API key, find out more here.\n\n- [https://cds.climate.copernicus.eu/cdsapp#!/home](https://cds.climate.copernicus.eu/cdsapp#!/home)\n- [https://cds.climate.copernicus.eu/api-how-to](https://cds.climate.copernicus.eu/api-how-to)\n\n"
      ]
    },
    {
      "cell_type": "code",
      "execution_count": null,
      "metadata": {
        "collapsed": false
      },
      "outputs": [],
      "source": [
        "cds_api = os.path.join(os.path.expanduser(\"~\"), \".cdsapirc\")\nif not os.path.exists(cds_api):\n    uid = input(\"Enter in CDS UID (e.g. 123456): \")\n    key = input(\"Enter your CDS API key (e.g. 12345678-1234-1234-1234-123456123456): \")\n    # Write to config file for CDS library\n    with open(cds_api, \"w\") as f:\n        f.write(\"url: https://cds.climate.copernicus.eu/api/v2\\n\")\n        f.write(f\"key: {uid}:{key}\\n\")"
      ]
    },
    {
      "cell_type": "markdown",
      "metadata": {},
      "source": [
        "## Running Inference\n\nTo run inference we will use the `earth2mip/ensemble_inference.py` part of Earth-2 MIP.\nWhen this Python file, we provide either a config JSON file or a JSON serialized string\nfor it to parse. This config contains the information regarding how the model should run\ninference. The schema of this can be found in `earth2mip/schema/EnsembleRun`.\n\nSince we are working in a notebook, lets create this config Pythonically. There are\nquite a few parameters that can be used, but lets focus in on a few key ones:\n\n- `ensemble_members`: Number ensemble members in the forecast\n\n- `noise_amplitude`: The amplitude of the noise pertibation method (we find that a good value to start with is `0.05`, feel free to experiment)\n\n- `simulation_length`: Number of (6h) time-steps to predict\n\n- `weather_event`: This defines the weather event as a combination of an initial time and a domain.\n\n- `output_path`: The output location of the ensemble prediction netCDF file\n\n- `weather_model`: The model ID to run. This MUST match the name of the model registry folder with your checkpoint files. So for this example its `fcnv2_sm`.\n\n<div class=\"alert alert-info\"><h4>Note</h4><p>Note: While in later notebooks we will demonstrate more Pythonic methods to interact\n  with Earth-2 MIP's APIs, the built in inference workflows provide a high-degree of\n  control with little to no programming.</p></div>\n\n"
      ]
    },
    {
      "cell_type": "code",
      "execution_count": null,
      "metadata": {
        "collapsed": false
      },
      "outputs": [],
      "source": [
        "config = {\n    \"ensemble_members\": 4,\n    \"noise_amplitude\": 0.05,\n    \"simulation_length\": 10,\n    \"weather_event\": {\n        \"properties\": {\n            \"name\": \"Globe\",\n            \"start_time\": \"2018-06-01 00:00:00\",\n            \"initial_condition_source\": \"cds\",\n        },\n        \"domains\": [\n            {\n                \"name\": \"global\",\n                \"type\": \"Window\",\n                \"diagnostics\": [{\"type\": \"raw\", \"channels\": [\"t2m\", \"u10m\"]}],\n            }\n        ],\n    },\n    \"output_path\": \"outputs/01_ensemble_notebook\",\n    \"output_frequency\": 1,\n    \"weather_model\": \"fcnv2_sm\",\n    \"seed\": 12345,\n    \"use_cuda_graphs\": False,\n    \"ensemble_batch_size\": 1,\n    \"autocast_fp16\": False,\n    \"perturbation_strategy\": \"correlated\",\n    \"noise_reddening\": 2.0,\n}"
      ]
    },
    {
      "cell_type": "markdown",
      "metadata": {},
      "source": [
        "Now we run the `main()` function in `earth2mip.inference_ensemble` providing our config\nobject which will run inference with the following steps:\n\n1. Instantiate and load the FCNv2 small weather model onto the device\n2. Download the initial state data needed from CDS using your saved API key\n3. Perturb the initial state based on the parameters in the config and run a forecast predicton\n4. Save output Xarray dataset to NetCDF file located in `../outputs/01_ensemble_notebook` (the process may take a while!)\n\n"
      ]
    },
    {
      "cell_type": "code",
      "execution_count": null,
      "metadata": {
        "collapsed": false
      },
      "outputs": [],
      "source": [
        "# Option 1: Use config file and CLI (use this outside a notebook)\n# with open('./01_config.json', 'w') as f:\n#     json.dump(config, f)\n# ! python3 -m earth2mip.inference_ensemble 01_config.json\n\n# Option 2: Feed in JSON string directly into main function\nconfig_str = json.dumps(config)\ninference_ensemble.main(config_str)"
      ]
    },
    {
      "cell_type": "markdown",
      "metadata": {},
      "source": [
        "When the inference is complete we can examine the output in `outputs/01_ensemble_notebook/ensemble_out_0.nc`.\n\nNote: if the inference is distributed across N GPUs there will be `ensemble_out_0.nc`, `ensemble_out_1.nc`, ... `ensemble_out_N-1.nc` output files.\nIn this case a function like this could concat the files to a single xarray DataArray:\n\n```\ndef _open(f, domain, time, chunks={\"time\": 1}):\n    root = xarray.open_dataset(f, decode_times=False)\n    ds = xarray.open_dataset(f, chunks=chunks, group=domain)\n    ds.attrs = root.attrs\n    return ds.assign_coords(time=lead_time)\n\ndef open_ensemble(path, domain, time):\n    path = pathlib.Path(path)\n    ensemble_files = list(path.glob(\"ensemble_out_*.nc\"))\n    return xarray.concat(\n      [_open(f, group, time) for f in ensemble_files], dim=\"ensemble\"\n    )\n```\n(TODO: Parallel inference / scoring example)\n\nBut with our single NetCDF file we can load it into a [Xarray Dataset](https://docs.xarray.dev/en/stable/generated/xarray.Dataset.html) with just a few lines of code.\n\n"
      ]
    },
    {
      "cell_type": "code",
      "execution_count": null,
      "metadata": {
        "collapsed": false
      },
      "outputs": [],
      "source": [
        "def open_ensemble(f, domain, chunks={\"time\": 1}):\n    time = xarray.open_dataset(f).time\n    root = xarray.open_dataset(f, decode_times=False)\n    ds = xarray.open_dataset(f, chunks=chunks, group=domain)\n    ds.attrs = root.attrs\n    return ds.assign_coords(time=time)\n\n\noutput_path = config[\"output_path\"]\ndomains = config[\"weather_event\"][\"domains\"][0][\"name\"]\nensemble_members = config[\"ensemble_members\"]\nds = open_ensemble(os.path.join(output_path, \"ensemble_out_0.nc\"), domains)\nds"
      ]
    },
    {
      "cell_type": "markdown",
      "metadata": {},
      "source": [
        "## Post Processing\nWith inference complete, now the fun part: post processing and analysis!\nYou can manipulate the data to your hearts content now that its in an Xarray Dataset.\nHere we will demonstrate some common plotting / analysis workflows one may be\ninterested. Lets start off with importing all our post processing packages.\n\n(You may need to pip install matplotlib and cartopy)\n\n"
      ]
    },
    {
      "cell_type": "code",
      "execution_count": null,
      "metadata": {
        "collapsed": false
      },
      "outputs": [],
      "source": [
        "import cartopy.crs as ccrs\nimport cartopy.feature as cfeature\nimport matplotlib.colors as mcolors\nimport matplotlib.pyplot as plt\nimport numpy as np\nimport pandas as pd\nfrom matplotlib.colors import TwoSlopeNorm\n\ncountries = cfeature.NaturalEarthFeature(\n    category=\"cultural\",\n    name=\"admin_0_countries\",\n    scale=\"50m\",\n    facecolor=\"none\",\n    edgecolor=\"black\",\n)"
      ]
    },
    {
      "cell_type": "markdown",
      "metadata": {},
      "source": [
        "Up first, we can plot a time series of the value of a variable (or statistics of that\nvariable) at a given location (lat/lon coord). In this case lets look at the results\npredicted over New York.\n\n"
      ]
    },
    {
      "cell_type": "code",
      "execution_count": null,
      "metadata": {
        "collapsed": false
      },
      "outputs": [],
      "source": [
        "plt.close(\"all\")\nlead_time = np.array(\n    (pd.to_datetime(ds.time) - pd.to_datetime(ds.time)[0]).total_seconds() / 3600\n)\nnyc_lat = 40\nnyc_lon = 360 - 74\nNYC = ds.sel(lon=nyc_lon, lat=nyc_lat)\nfig = plt.figure(figsize=(9, 6))\nax = fig.add_subplot(311)\nax.set_title(\"Ensemble members\")\nax.plot(lead_time, NYC.u10m.T)\nax.set_ylabel(\"u10m [m/s]\")\n\nax = fig.add_subplot(312)\nax.set_title(\"deviation from ensemble mean\")\nax.plot(lead_time, NYC.t2m.T - NYC.t2m.mean(\"ensemble\"))\nax.set_ylabel(\"u10m [m/s]\")\n\nax = fig.add_subplot(313)\nax.set_title(\"ensemble spread\")\nax.plot(lead_time, NYC.t2m.std(\"ensemble\"))\nax.set_xlabel(\"lead_time [h]\")\nax.set_ylabel(\"std u10m [m/s]\")\nplt.tight_layout()\nplt.savefig(f\"{output_path}/new_york_zonal_winds.png\")"
      ]
    },
    {
      "cell_type": "markdown",
      "metadata": {},
      "source": [
        "Next, lets plot some fields of surface temperature. Since we have an ensemble of\npredictions, lets display the first ensemble member, which is deterministic member,\nand also the last ensemble member and the ensemmble standard deviation. One or both of\nthe perturbed members may look a little noisy, thats because our noise amplitude is\nmaybe too high. Try lowering the amplitude in the config or changing pertibation type\nto see what happens.\n\n"
      ]
    },
    {
      "cell_type": "code",
      "execution_count": null,
      "metadata": {
        "collapsed": false
      },
      "outputs": [],
      "source": [
        "plt.close(\"all\")\nfig = plt.figure(figsize=(15, 10))\nplt.rcParams[\"figure.dpi\"] = 100\nproj = ccrs.NearsidePerspective(central_longitude=nyc_lon, central_latitude=nyc_lat)\n\ndata = ds.t2m[0, -1, :, :]\nnorm = TwoSlopeNorm(vmin=220, vcenter=290, vmax=320)\nax = fig.add_subplot(131, projection=proj)\nax.set_title(\"First ensemble member t2m (K)\")\nimg = ax.pcolormesh(\n    ds.lon, ds.lat, data, transform=ccrs.PlateCarree(), norm=norm, cmap=\"seismic\"\n)\nax.coastlines(linewidth=1)\nax.add_feature(countries, edgecolor=\"black\", linewidth=0.25)\nplt.colorbar(img, ax=ax, shrink=0.40, norm=mcolors.CenteredNorm(vcenter=0))\ngl = ax.gridlines(draw_labels=True, linestyle=\"--\")\n\ndata = ds.t2m[-1, -1, :, :]\nnorm = TwoSlopeNorm(vmin=220, vcenter=290, vmax=320)\nax = fig.add_subplot(132, projection=proj)\nplt.rcParams[\"figure.dpi\"] = 100\nproj = ccrs.NearsidePerspective(central_longitude=nyc_lon, central_latitude=nyc_lat)\nax.set_title(\"Last ensemble member t2m (K)\")\nimg = ax.pcolormesh(\n    ds.lon, ds.lat, data, transform=ccrs.PlateCarree(), norm=norm, cmap=\"seismic\"\n)\nax.coastlines(linewidth=1)\nax.add_feature(countries, edgecolor=\"black\", linewidth=0.25)\nplt.colorbar(img, ax=ax, shrink=0.40, norm=mcolors.CenteredNorm(vcenter=0))\ngl = ax.gridlines(draw_labels=True, linestyle=\"--\")\n\nds_ensemble_std = ds.std(dim=\"ensemble\")\ndata = ds_ensemble_std.t2m[-1, :, :]\n# norm = TwoSlopeNorm(vmin=data.min().values, vcenter=5, vmax=data.max().values)\nproj = ccrs.NearsidePerspective(central_longitude=nyc_lon, central_latitude=nyc_lat)\nax = fig.add_subplot(133, projection=proj)\nax.set_title(\"ensemble std  t2m (K)\")\nimg = ax.pcolormesh(ds.lon, ds.lat, data, transform=ccrs.PlateCarree(), cmap=\"seismic\")\nax.coastlines(linewidth=1)\nax.add_feature(countries, edgecolor=\"black\", linewidth=0.25)\nplt.colorbar(img, ax=ax, shrink=0.40, norm=mcolors.CenteredNorm(vcenter=0))\ngl = ax.gridlines(draw_labels=True, linestyle=\"--\")\nplt.savefig(f\"{output_path}/gloabl_surface_temp_contour.png\")"
      ]
    },
    {
      "cell_type": "markdown",
      "metadata": {},
      "source": [
        "We can also show a map of the ensemble mean of the 10 meter zonal winds (using some\nNvidia style coloring!)\n\n"
      ]
    },
    {
      "cell_type": "code",
      "execution_count": null,
      "metadata": {
        "collapsed": false
      },
      "outputs": [],
      "source": [
        "def Nvidia_cmap():\n    colors = [\"#8946ff\", \"#ffffff\", \"#00ff00\"]\n    cmap = mcolors.LinearSegmentedColormap.from_list(\"custom_cmap\", colors)\n    return cmap\n\n\nplt.close(\"all\")\nds_ensemble_mean = ds.mean(dim=\"ensemble\")\ndata = ds_ensemble_mean.u10m[-1, :, :]\nfig = plt.figure(figsize=(9, 6))\nplt.rcParams[\"figure.dpi\"] = 100\nproj = ccrs.NearsidePerspective(central_longitude=nyc_lon, central_latitude=nyc_lat)\n\nax = fig.add_subplot(111, projection=proj)\nax.set_title(\"ens. mean 10 meter zonal wind [m/s]\")\nimg = ax.pcolormesh(\n    ds.lon,\n    ds.lat,\n    data,\n    transform=ccrs.PlateCarree(),\n    cmap=Nvidia_cmap(),\n    vmin=-20,\n    vmax=20,\n)\nax.coastlines(linewidth=1)\nax.add_feature(countries, edgecolor=\"black\", linewidth=0.25)\nplt.colorbar(img, ax=ax, shrink=0.40, norm=mcolors.CenteredNorm(vcenter=0))\ngl = ax.gridlines(draw_labels=True, linestyle=\"--\")\nplt.savefig(f\"{output_path}/gloabl_mean_zonal_wind_contour.png\")"
      ]
    },
    {
      "cell_type": "markdown",
      "metadata": {},
      "source": [
        "Finally lets compute the latitude-weighted global averages and plot time series of\nensemble standard deviation.\n\n"
      ]
    },
    {
      "cell_type": "code",
      "execution_count": null,
      "metadata": {
        "collapsed": false
      },
      "outputs": [],
      "source": [
        "def global_average(ds):\n    cos_lat = np.cos(np.deg2rad(ds.lat))\n    return ds.weighted(cos_lat).mean([\"lat\", \"lon\"])\n\n\nds_ensemble_std = global_average(ds.std(dim=\"ensemble\"))\nplt.close(\"all\")\nplt.figure()\nplt.plot(lead_time, ds_ensemble_std.u10m)\nplt.xlabel(\"lead time [k]\")\nplt.ylabel(\"u10m std [m/s]\")\nplt.savefig(f\"{output_path}/gloabl_std_zonal_surface_wind.png\")"
      ]
    },
    {
      "cell_type": "markdown",
      "metadata": {},
      "source": [
        "And that completes the introductory notebook into running ensemble weather predictions\nwith AI. In the next notebook, we will look at running different models using more\nPythonic APIs and plotting geopotential fields.\n\n"
      ]
    }
  ],
  "metadata": {
    "kernelspec": {
      "display_name": "Python 3",
      "language": "python",
      "name": "python3"
    },
    "language_info": {
      "codemirror_mode": {
        "name": "ipython",
        "version": 3
      },
      "file_extension": ".py",
      "mimetype": "text/x-python",
      "name": "python",
      "nbconvert_exporter": "python",
      "pygments_lexer": "ipython3",
      "version": "3.10.6"
    }
  },
  "nbformat": 4,
  "nbformat_minor": 0
}