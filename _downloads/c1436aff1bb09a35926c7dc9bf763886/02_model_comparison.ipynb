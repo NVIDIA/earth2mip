{
  "cells": [
    {
      "cell_type": "markdown",
      "metadata": {},
      "source": [
        "\n# Basic Inference with Multiple Models\n\nThe following notebook demonstrates how to use Earth-2 MIP for running different AI\nweather models and comparing their outputs. Specifically, this will compare the Pangu\nweather model and Deep Learning Weather Prediction (DLWP) mode with an intial state\npulled from the Climate Data Store (CDS). This will also how how to interact with\nEarth-2 MIP using Python APIs for greater control over inference workflows.\n\nIn summary this notebook will cover the following topics:\n\n- Configuring and setting up Pangu Model Registry and DLWP Model Registry\n- Setting up a basic deterministic inferencer for both models\n- Running inference in a Python script\n- Post processing results\n"
      ]
    },
    {
      "cell_type": "markdown",
      "metadata": {},
      "source": [
        "## Set Up\nStarting off with imports, hopefully you have already installed Earth-2 MIP from this\nrepository. See the previous notebook for information about configuring Earth-2 MIP, its\nassumed enviroment variables have already been properly set.\n\n"
      ]
    },
    {
      "cell_type": "code",
      "execution_count": null,
      "metadata": {
        "collapsed": false
      },
      "outputs": [],
      "source": [
        "import datetime\nimport os\n\nimport dotenv\nimport xarray\n\ndotenv.load_dotenv()\n\nfrom earth2mip import inference_ensemble, registry\nfrom earth2mip.initial_conditions import cds"
      ]
    },
    {
      "cell_type": "markdown",
      "metadata": {},
      "source": [
        "The cell above created a model registry folder for us, now we need to populate it with\nmodel packages.\nWe will start with Pangu, which is a model that uses ONNX checkpoints.\nSince this is a built in model, we can use the `registry.get_model` function with the\n`e2mip://` prefix to auto download the checkpoints.\nUnder the hood, this is fetching the ONNX checkpoints and creating a `metadata.json`\nfile to help Earth-2 MIP know how to load the model into memory for inference.\n\n"
      ]
    },
    {
      "cell_type": "code",
      "execution_count": null,
      "metadata": {
        "collapsed": false
      },
      "outputs": [],
      "source": [
        "print(\"Fetching Pangu model package...\")\npackage = registry.get_model(\"e2mip://pangu\")"
      ]
    },
    {
      "cell_type": "markdown",
      "metadata": {},
      "source": [
        "Next DLWP model package will need to be downloaded. This model follows the standard\nproceedure most do in Earth-2 MIP, being served via Modulus and hosted on NGC model\nregistry.\n\n"
      ]
    },
    {
      "cell_type": "code",
      "execution_count": null,
      "metadata": {
        "collapsed": false
      },
      "outputs": [],
      "source": [
        "print(\"Fetching DLWP model package...\")\npackage = registry.get_model(\"e2mip://dlwp\")"
      ]
    },
    {
      "cell_type": "markdown",
      "metadata": {},
      "source": [
        "The final setup step is to set up your CDS API key so we can access ERA5 data to act as\nan initial state. Earth-2 MIP supports a number of different initial state data sources\nthat are supported including HDF5, CDS, GFS, etc. The CDS initial state provides a\nconvenient way to access a limited amount of historical weather data. Its recommended\nfor accessing an initial state, but larger data requirements should use locally stored\nweather datasets.\n\nEnter your CDS API uid and key below (found under your profile page).\nIf you don't a CDS API key, find out more here.\n\n- [https://cds.climate.copernicus.eu/cdsapp#!/home](https://cds.climate.copernicus.eu/cdsapp#!/home)\n- [https://cds.climate.copernicus.eu/api-how-to](https://cds.climate.copernicus.eu/api-how-to)\n\n"
      ]
    },
    {
      "cell_type": "code",
      "execution_count": null,
      "metadata": {
        "collapsed": false
      },
      "outputs": [],
      "source": [
        "cds_api = os.path.join(os.path.expanduser(\"~\"), \".cdsapirc\")\nif not os.path.exists(cds_api):\n    uid = input(\"Enter in CDS UID (e.g. 123456): \")\n    key = input(\"Enter your CDS API key (e.g. 12345678-1234-1234-1234-123456123456): \")\n    # Write to config file for CDS library\n    with open(cds_api, \"w\") as f:\n        f.write(\"url: https://cds.climate.copernicus.eu/api/v2\\n\")\n        f.write(f\"key: {uid}:{key}\\n\")"
      ]
    },
    {
      "cell_type": "markdown",
      "metadata": {},
      "source": [
        "## Running Inference\nTo run inference of these models we will use some of Earth-2 MIPs Python APIs to perform\ninference. The first step is to load the model from the model registry, which is done\nusing the `registry.get_model` command. This will look in your `MODEL_REGISTRY` folder\nfor the provided name and use this as a filesystem for loading necessary files.\n\nThe model is then loaded into memory using the load function for that particular\nnetwork. Earth-2 MIP has multiple abstracts that can allow this to be automated that can\nbe used instead if desired.\n\n"
      ]
    },
    {
      "cell_type": "code",
      "execution_count": null,
      "metadata": {
        "collapsed": false
      },
      "outputs": [],
      "source": [
        "import earth2mip.networks.dlwp as dlwp\nimport earth2mip.networks.pangu as pangu\n\n# Output directoy\noutput_dir = \"outputs/02_model_comparison\"\nos.makedirs(output_dir, exist_ok=True)\n\nprint(\"Loading models into memory\")\n# Load DLWP model from registry\npackage = registry.get_model(\"dlwp\")\ndlwp_inference_model = dlwp.load(package)\n\n# Load Pangu model(s) from registry\npackage = registry.get_model(\"pangu\")\npangu_inference_model = pangu.load(package)"
      ]
    },
    {
      "cell_type": "markdown",
      "metadata": {},
      "source": [
        "Next we set up the initial state data source for January 1st, 2018 at 00:00:00 UTC.\nAs previously mentioned, we will pull data on the fly from CDS (make sure you set up\nyour API key above). Since DLWP and Pangu require different channels (and time steps),\nwe will create two seperate data-sources for them.\n\n"
      ]
    },
    {
      "cell_type": "code",
      "execution_count": null,
      "metadata": {
        "collapsed": false
      },
      "outputs": [],
      "source": [
        "time = datetime.datetime(2018, 1, 1)\n\n# DLWP datasource\ndlwp_data_source = cds.DataSource(dlwp_inference_model.in_channel_names)\n\n# Pangu datasource, this is much simplier since pangu only uses one timestep as an input\npangu_data_source = cds.DataSource(pangu_inference_model.in_channel_names)"
      ]
    },
    {
      "cell_type": "markdown",
      "metadata": {},
      "source": [
        "With the initial state downloaded for each and set up in an Xarray dataset, we can now\nrun deterministic inference for both which can be achieved using the\n`inference_ensemble.run_basic_inference` method which will produce a Xarray\n[data array](https://docs.xarray.dev/en/stable/generated/xarray.DataArray.html) to then\nwork with.\n\n"
      ]
    },
    {
      "cell_type": "code",
      "execution_count": null,
      "metadata": {
        "collapsed": false
      },
      "outputs": [],
      "source": [
        "print(\"Running Pangu inference\")\npangu_ds = inference_ensemble.run_basic_inference(\n    pangu_inference_model,\n    n=24,  # Note we run 24 steps here because Pangu is at 6 hour dt (6 day forecast)\n    data_source=pangu_data_source,\n    time=time,\n)\npangu_ds.to_netcdf(f\"{output_dir}/pangu_inference_out.nc\")\nprint(pangu_ds)"
      ]
    },
    {
      "cell_type": "code",
      "execution_count": null,
      "metadata": {
        "collapsed": false
      },
      "outputs": [],
      "source": [
        "print(\"Running DLWP inference\")\ndlwp_ds = inference_ensemble.run_basic_inference(\n    dlwp_inference_model,\n    n=24,  # Note we run 24 steps. DLWP steps at 12 hr dt, but yeilds output every 6 hrs (6 day forecast)\n    data_source=dlwp_data_source,\n    time=time,\n)\ndlwp_ds.to_netcdf(f\"{output_dir}/dlwp_inference_out.nc\")\nprint(dlwp_ds)"
      ]
    },
    {
      "cell_type": "markdown",
      "metadata": {},
      "source": [
        "## Post Processing\nWith inference complete, now the fun part: post processing and analysis!\nHere we will just plot the z500 (geopotential at pressure level 500) contour time-series of both models.\n\n"
      ]
    },
    {
      "cell_type": "code",
      "execution_count": null,
      "metadata": {
        "collapsed": false
      },
      "outputs": [],
      "source": [
        "import matplotlib.pyplot as plt\n\n# Open dataset from saved NetCDFs\npangu_ds = xarray.open_dataarray(f\"{output_dir}/pangu_inference_out.nc\")\ndlwp_ds = xarray.open_dataarray(f\"{output_dir}/dlwp_inference_out.nc\")\n\n# Get data-arrays at 12 hour steps\npangu_arr = pangu_ds.sel(channel=\"z500\").values[::2]\ndlwp_arr = dlwp_ds.sel(channel=\"z500\").values[::2]\n# Plot\nplt.close(\"all\")\nfig, axs = plt.subplots(2, 13, figsize=(13 * 4, 5))\nfor i in range(13):\n    axs[0, i].imshow(dlwp_arr[i, 0])\n    axs[1, i].imshow(pangu_arr[i, 0])\n    axs[0, i].set_title(time + datetime.timedelta(hours=12 * i))\n\naxs[0, 0].set_ylabel(\"DLWP\")\naxs[1, 0].set_ylabel(\"Pangu\")\nplt.suptitle(\"z500 DLWP vs Pangu\")\nplt.savefig(f\"{output_dir}/pangu_dlwp_z500.png\")"
      ]
    },
    {
      "cell_type": "markdown",
      "metadata": {},
      "source": [
        "And that completes the second notebook detailing how to run deterministic inference of\ntwo models using Earth-2 MIP. In the next notebook, we will look at how to score a\nmodel compared against ERA5 re-analysis data.\n\n"
      ]
    }
  ],
  "metadata": {
    "kernelspec": {
      "display_name": "Python 3",
      "language": "python",
      "name": "python3"
    },
    "language_info": {
      "codemirror_mode": {
        "name": "ipython",
        "version": 3
      },
      "file_extension": ".py",
      "mimetype": "text/x-python",
      "name": "python",
      "nbconvert_exporter": "python",
      "pygments_lexer": "ipython3",
      "version": "3.10.6"
    }
  },
  "nbformat": 4,
  "nbformat_minor": 0
}